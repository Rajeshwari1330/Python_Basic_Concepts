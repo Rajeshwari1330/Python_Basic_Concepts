{
 "cells": [
  {
   "cell_type": "code",
   "execution_count": 1,
   "metadata": {},
   "outputs": [],
   "source": [
    "# class : user defined function / blueprint for creating objects / object constructor/ a model.\n",
    "# object : instance of the class."
   ]
  },
  {
   "cell_type": "code",
   "execution_count": 2,
   "metadata": {},
   "outputs": [],
   "source": [
    "# create a class using 'class' keyword\n",
    "\n",
    "class myClass:\n",
    "    x = 5"
   ]
  },
  {
   "cell_type": "code",
   "execution_count": 4,
   "metadata": {},
   "outputs": [
    {
     "data": {
      "text/plain": [
       "5"
      ]
     },
     "execution_count": 4,
     "metadata": {},
     "output_type": "execute_result"
    }
   ],
   "source": [
    "# create an object\n",
    "\n",
    "obj = myClass()\n",
    "obj.x"
   ]
  },
  {
   "cell_type": "code",
   "execution_count": 6,
   "metadata": {},
   "outputs": [
    {
     "name": "stdout",
     "output_type": "stream",
     "text": [
      "20\n",
      "20\n"
     ]
    }
   ],
   "source": [
    "class myClass:\n",
    "    x = 2\n",
    "    y = 4\n",
    "    num = 10\n",
    "    \n",
    "obj = myClass()\n",
    "print(obj.x * 10)\n",
    "print(obj.y * 5)"
   ]
  },
  {
   "cell_type": "code",
   "execution_count": 8,
   "metadata": {},
   "outputs": [],
   "source": [
    "# The __init__ function :\n",
    "#1) All classes have a function called __init__(), which is always executed when the class is being initiated.\n",
    "#2) Use the __init__() function to assign values to object properties, or other operations that are necessary to do \n",
    "#   when the object is being created \"\"\""
   ]
  },
  {
   "cell_type": "code",
   "execution_count": 10,
   "metadata": {},
   "outputs": [
    {
     "name": "stdout",
     "output_type": "stream",
     "text": [
      "Misti\n",
      "20\n"
     ]
    }
   ],
   "source": [
    "class info:\n",
    "    def __init__(self, name, age):\n",
    "        self.name = name\n",
    "        self.age = age\n",
    "    \n",
    "obj = info(\"Misti\", 20)\n",
    "\n",
    "print(obj.name)\n",
    "print(obj.age)    "
   ]
  },
  {
   "cell_type": "code",
   "execution_count": 13,
   "metadata": {},
   "outputs": [
    {
     "name": "stdout",
     "output_type": "stream",
     "text": [
      "sonu CS357\n"
     ]
    }
   ],
   "source": [
    "class student:\n",
    "    def __init__(self, usn, name, address, branch, phNo):\n",
    "        self.usn = usn\n",
    "        self.name = name\n",
    "        self.address = address\n",
    "        self.branch = branch\n",
    "        self.phNo = phNo\n",
    "    \n",
    "stud = student('CS357','sonu','bgm','cs',765)\n",
    "print(stud.name, stud.usn)"
   ]
  },
  {
   "cell_type": "code",
   "execution_count": 14,
   "metadata": {},
   "outputs": [
    {
     "name": "stdout",
     "output_type": "stream",
     "text": [
      "CS357 sonu bgm cs 765\n"
     ]
    }
   ],
   "source": [
    "class student:\n",
    "    def __init__(self, usn, name, address, branch, phNo):\n",
    "        self.usn = usn\n",
    "        self.name = name\n",
    "        self.address = address\n",
    "        self.branch = branch\n",
    "        self.phNo = phNo\n",
    "    \n",
    "stud = student('CS357','sonu','bgm','cs',765)\n",
    "print(stud.usn, stud.name, stud.address, stud.branch, stud.phNo)"
   ]
  },
  {
   "cell_type": "code",
   "execution_count": 19,
   "metadata": {},
   "outputs": [
    {
     "name": "stdout",
     "output_type": "stream",
     "text": [
      "USN :  CS357\n",
      "NAME :  sonu\n",
      "ADDRESS :  bgm\n",
      "BRANCH :  cs\n",
      "Phone Number :  768655\n"
     ]
    }
   ],
   "source": [
    "class student:\n",
    "    def __init__(self, usn, name, address, branch, phNo):\n",
    "        self.usn = usn\n",
    "        self.name = name\n",
    "        self.address = address\n",
    "        self.branch = branch\n",
    "        self.phNo = phNo\n",
    "    \n",
    "stud = student('CS357','sonu','bgm','cs','768655')\n",
    "print('USN : ', stud.usn)\n",
    "print('NAME : ', stud.name)\n",
    "print('ADDRESS : ', stud.address)\n",
    "print('BRANCH : ', stud.branch)\n",
    "print('Phone Number : ', stud.phNo)"
   ]
  },
  {
   "cell_type": "code",
   "execution_count": 24,
   "metadata": {},
   "outputs": [],
   "source": [
    "class student:\n",
    "    def __init__(self, usn, name, address, branch, phNo):\n",
    "        self.usn = usn\n",
    "        self.name = name\n",
    "        self.address = address\n",
    "        self.branch = branch\n",
    "        self.phNo = phNo\n",
    "        \n",
    "    def myFunc(self):\n",
    "        print('Hello...! My name is : ' + self.name)\n",
    "        \n",
    "s = student(\"34fgjh\",\"misti\",\"bgm\",\"mech\",\"765432456\")\n",
    "s.myFunc()"
   ]
  },
  {
   "cell_type": "code",
   "execution_count": 25,
   "metadata": {},
   "outputs": [
    {
     "name": "stdout",
     "output_type": "stream",
     "text": [
      "Hello...! My name is : misti\n"
     ]
    }
   ],
   "source": [
    "class student:\n",
    "    def __init__(self, usn, name, address, branch, phNo):\n",
    "        self.name = name\n",
    "        \n",
    "    def myFunc(self):\n",
    "        print('Hello...! My name is : ' + self.name)\n",
    "        \n",
    "s = student(\"34fgjh\",\"misti\",\"bgm\",\"mech\",\"765432456\")\n",
    "s.myFunc()"
   ]
  },
  {
   "cell_type": "code",
   "execution_count": 26,
   "metadata": {},
   "outputs": [
    {
     "name": "stdout",
     "output_type": "stream",
     "text": [
      "Hello...! My name is : sonu\n"
     ]
    }
   ],
   "source": [
    "class student:\n",
    "    def __init__(mysillyobject, usn, name, address, branch, phNo):\n",
    "        mysillyobject.usn = usn\n",
    "        mysillyobject.name = name\n",
    "        mysillyobject.address = address\n",
    "        mysillyobject.branch = branch\n",
    "        mysillyobject.phNo = phNo\n",
    "        \n",
    "    def myFunc(abc):\n",
    "        print('Hello...! My name is : ' + abc.name)\n",
    "    \n",
    "stud = student('CS357','sonu','bgm','cs',765)\n",
    "stud.myFunc()"
   ]
  },
  {
   "cell_type": "code",
   "execution_count": null,
   "metadata": {},
   "outputs": [],
   "source": [
    "# empty class\n",
    "\n",
    "class person:\n",
    "    pass"
   ]
  },
  {
   "cell_type": "code",
   "execution_count": null,
   "metadata": {},
   "outputs": [],
   "source": []
  }
 ],
 "metadata": {
  "kernelspec": {
   "display_name": "Python 3",
   "language": "python",
   "name": "python3"
  },
  "language_info": {
   "codemirror_mode": {
    "name": "ipython",
    "version": 3
   },
   "file_extension": ".py",
   "mimetype": "text/x-python",
   "name": "python",
   "nbconvert_exporter": "python",
   "pygments_lexer": "ipython3",
   "version": "3.7.6"
  }
 },
 "nbformat": 4,
 "nbformat_minor": 4
}
