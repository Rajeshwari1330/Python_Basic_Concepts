{
 "cells": [
  {
   "cell_type": "code",
   "execution_count": 1,
   "metadata": {},
   "outputs": [],
   "source": [
    "# Function : It is a block of code which runs only when it is called.\n",
    "#             When we pass data, called as parameter.\n",
    "#             function is defined by using \"def\" keyword. "
   ]
  },
  {
   "cell_type": "code",
   "execution_count": 3,
   "metadata": {},
   "outputs": [
    {
     "name": "stdout",
     "output_type": "stream",
     "text": [
      "Hello misti\n"
     ]
    }
   ],
   "source": [
    "def myFunction():\n",
    "    print(\"Hello misti\")\n",
    "    \n",
    "myFunction()"
   ]
  },
  {
   "cell_type": "code",
   "execution_count": 5,
   "metadata": {},
   "outputs": [
    {
     "name": "stdout",
     "output_type": "stream",
     "text": [
      "Hi Misti\n",
      "Good Afternoon\n",
      "How are you ?\n"
     ]
    }
   ],
   "source": [
    "def myFunction2():\n",
    "    print(\"Hi Misti\")\n",
    "    print(\"Good Afternoon\")\n",
    "    print(\"How are you ?\")\n",
    "    \n",
    "myFunction2()"
   ]
  },
  {
   "cell_type": "code",
   "execution_count": 6,
   "metadata": {},
   "outputs": [
    {
     "name": "stdout",
     "output_type": "stream",
     "text": [
      "Good morning\n",
      "Hi\n"
     ]
    }
   ],
   "source": [
    "def helloFunction():\n",
    "    print(\"Hi\")\n",
    "    \n",
    "def greetingFunc():\n",
    "    print(\"Good morning\")\n",
    "    \n",
    "def infoFunc():\n",
    "    print(\"Tell me about yourself : \")\n",
    "    \n",
    "greetingFunc()\n",
    "helloFunction()"
   ]
  },
  {
   "cell_type": "code",
   "execution_count": 7,
   "metadata": {},
   "outputs": [
    {
     "name": "stdout",
     "output_type": "stream",
     "text": [
      "Misti\n",
      "Jitender\n",
      "Ambika\n"
     ]
    }
   ],
   "source": [
    "# passing arguments\n",
    "\n",
    "def demo(fname):\n",
    "    print(fname)\n",
    "    \n",
    "demo(\"Misti\")\n",
    "demo(\"Jitender\")\n",
    "demo(\"Ambika\")"
   ]
  },
  {
   "cell_type": "code",
   "execution_count": 15,
   "metadata": {},
   "outputs": [
    {
     "name": "stdout",
     "output_type": "stream",
     "text": [
      "First Name : Misti \n",
      "Last Name : D \n",
      "Address : Bgm\n",
      "--------------------\n",
      "First Name : Jitu \n",
      "Last Name : D \n",
      "Address : Har\n",
      "--------------------\n"
     ]
    }
   ],
   "source": [
    "def info(fname, lname, address):\n",
    "    print('First Name : ' + fname ,'\\n' 'Last Name : ' + lname , '\\n' 'Address : ' + address)\n",
    "    print('--------------------')\n",
    "    \n",
    "info('Misti', 'D','Bgm')\n",
    "info('Jitu', 'D', 'Har')"
   ]
  },
  {
   "cell_type": "code",
   "execution_count": 16,
   "metadata": {},
   "outputs": [
    {
     "name": "stdout",
     "output_type": "stream",
     "text": [
      "Misti D BE Bgm 2350764 AI\n"
     ]
    }
   ],
   "source": [
    "def bioData(fname,lname,qualification,address,phNo,profile):\n",
    "    print(fname,lname,qualification,address,phNo,profile)\n",
    "    \n",
    "bioData('Misti','D','BE','Bgm',2350764,'AI')    "
   ]
  },
  {
   "cell_type": "code",
   "execution_count": 20,
   "metadata": {},
   "outputs": [
    {
     "name": "stdout",
     "output_type": "stream",
     "text": [
      "First Name :Misti \n",
      "Last Name :D \n",
      "Qualification :BE \n",
      "Address :Bgm \n",
      "Phone:2350764 \n",
      "Profile:AI\n"
     ]
    }
   ],
   "source": [
    "def bioData(fname,lname,qualification,address,phNo,profile):\n",
    "    print('First Name :'+fname,'\\n''Last Name :'+lname,'\\n''Qualification :'+qualification,'\\n''Address :'+address,'\\n''Phone:'+phNo,'\\n''Profile:'+profile)\n",
    "    \n",
    "bioData('Misti','D','BE','Bgm','2350764','AI')   "
   ]
  },
  {
   "cell_type": "code",
   "execution_count": 24,
   "metadata": {},
   "outputs": [
    {
     "name": "stdout",
     "output_type": "stream",
     "text": [
      "misti j  d\n"
     ]
    }
   ],
   "source": [
    "def name(fname,mname,lname):\n",
    "    print(fname + \" \" + mname + \"  \" + lname)\n",
    "    \n",
    "name('misti','j','d')"
   ]
  },
  {
   "cell_type": "code",
   "execution_count": 31,
   "metadata": {},
   "outputs": [
    {
     "name": "stdout",
     "output_type": "stream",
     "text": [
      "My Bestieeee : J\n"
     ]
    }
   ],
   "source": [
    "# If number of arguments are unknown, add one * before parameter name.\n",
    "\n",
    "def bestie(*friends):\n",
    "    print('My Bestieeee : ' + friends[1])\n",
    "    \n",
    "bestie(\"A\",\"J\",\"M\",\"R\",\"K\")    "
   ]
  },
  {
   "cell_type": "code",
   "execution_count": 32,
   "metadata": {},
   "outputs": [
    {
     "name": "stdout",
     "output_type": "stream",
     "text": [
      "The youngest child is : jitu\n"
     ]
    }
   ],
   "source": [
    "# keyword arguments : key-value pair arguments\n",
    "\n",
    "def childs(child2, child4, child1, child3):\n",
    "    print('The youngest child is : ' + child4)\n",
    "    \n",
    "childs(child1 = \"sonu\", child2 = \"ravi\", child3 = \"anju\", child4 = \"jitu\")"
   ]
  },
  {
   "cell_type": "code",
   "execution_count": 35,
   "metadata": {},
   "outputs": [
    {
     "name": "stdout",
     "output_type": "stream",
     "text": [
      "last name is :zzzzz\n"
     ]
    }
   ],
   "source": [
    "# arbitrary arguments : If number of keyword argument is unknown, add two ** before parameter name.\n",
    "\n",
    "def func(**name):\n",
    "    print('last name is :' + name[\"lname\"])\n",
    "    \n",
    "func(fname = \"aaaaa\", lname = \"zzzzz\", address = \"nnbgctgh\")"
   ]
  },
  {
   "cell_type": "code",
   "execution_count": 37,
   "metadata": {},
   "outputs": [
    {
     "name": "stdout",
     "output_type": "stream",
     "text": [
      "Address is :nnbgctgh\n"
     ]
    }
   ],
   "source": [
    "def func(**name):\n",
    "    print('Address is :' + name[\"address\"])\n",
    "    \n",
    "func(fname = \"aaaaa\", lname = \"zzzzz\", address = \"nnbgctgh\")"
   ]
  },
  {
   "cell_type": "code",
   "execution_count": 39,
   "metadata": {},
   "outputs": [
    {
     "name": "stdout",
     "output_type": "stream",
     "text": [
      "I am from Sweden\n",
      "I am from Pak\n",
      "I am from India\n",
      "I am from Brazil\n"
     ]
    }
   ],
   "source": [
    "# default parameter value\n",
    "\n",
    "def function(country = \"India\"):\n",
    "  print(\"I am from \" + country)\n",
    "\n",
    "function(\"Sweden\")\n",
    "function(\"Pak\")\n",
    "function()\n",
    "function(\"Brazil\")"
   ]
  },
  {
   "cell_type": "code",
   "execution_count": 40,
   "metadata": {},
   "outputs": [
    {
     "name": "stdout",
     "output_type": "stream",
     "text": [
      "mango\n",
      "banana\n",
      "grapes\n",
      "strobbery\n"
     ]
    }
   ],
   "source": [
    "# list of arguments\n",
    "\n",
    "def myFunc(food):\n",
    "    for i in food:\n",
    "        print(i)\n",
    "        \n",
    "fruits = [\"mango\", \"banana\", \"grapes\", \"strobbery\"]\n",
    "chinese = [\"noodles\", \"manchurian\",\"momos\"]\n",
    "\n",
    "myFunc(fruits)        "
   ]
  },
  {
   "cell_type": "code",
   "execution_count": 41,
   "metadata": {},
   "outputs": [
    {
     "name": "stdout",
     "output_type": "stream",
     "text": [
      "gulabjamun\n",
      "rasgulla\n",
      "jalebi\n"
     ]
    }
   ],
   "source": [
    "# list of arguments\n",
    "\n",
    "def myFunc(food):\n",
    "    for i in food:\n",
    "        print(i)\n",
    "        \n",
    "fruits = [\"mango\", \"banana\", \"grapes\", \"strobbery\"]\n",
    "chinese = [\"noodles\", \"manchurian\",\"momos\"]\n",
    "sweets = [\"gulabjamun\", \"rasgulla\", \"jalebi\"]\n",
    "\n",
    "myFunc(sweets)  "
   ]
  },
  {
   "cell_type": "code",
   "execution_count": 44,
   "metadata": {},
   "outputs": [
    {
     "name": "stdout",
     "output_type": "stream",
     "text": [
      "4\n",
      "6\n",
      "8\n"
     ]
    }
   ],
   "source": [
    "# return values\n",
    "\n",
    "def calculate(num):\n",
    "    return 2 * num\n",
    "\n",
    "print(calculate(2))\n",
    "print(calculate(3))\n",
    "print(calculate(4))\n"
   ]
  },
  {
   "cell_type": "code",
   "execution_count": 47,
   "metadata": {},
   "outputs": [
    {
     "name": "stdout",
     "output_type": "stream",
     "text": [
      "10\n",
      "15\n",
      "20\n"
     ]
    }
   ],
   "source": [
    "# return values\n",
    "\n",
    "def calculate(num):\n",
    "    return 5 * num\n",
    "\n",
    "print(calculate(2))\n",
    "print(calculate(3))\n",
    "print(calculate(4))"
   ]
  },
  {
   "cell_type": "code",
   "execution_count": 48,
   "metadata": {},
   "outputs": [],
   "source": [
    "# pass statement : function definitions cannot be empty, but if you for some reason have a function definition with no \n",
    "#                    content, put in the pass statement to avoid getting an error.\n",
    "\n",
    "def emptyFunc():\n",
    "    pass"
   ]
  },
  {
   "cell_type": "code",
   "execution_count": 51,
   "metadata": {},
   "outputs": [
    {
     "name": "stdout",
     "output_type": "stream",
     "text": [
      "Name : Misti\n",
      "Qualification : BE\n"
     ]
    }
   ],
   "source": [
    "def name():\n",
    "    print('Name : Misti')\n",
    "    \n",
    "def qualification():\n",
    "    print('Qualification : BE')\n",
    "    \n",
    "def address():\n",
    "    pass\n",
    "\n",
    "name()\n",
    "address()\n",
    "qualification()"
   ]
  },
  {
   "cell_type": "code",
   "execution_count": 54,
   "metadata": {},
   "outputs": [
    {
     "name": "stdout",
     "output_type": "stream",
     "text": [
      "Recursion result is : \n",
      "1\n",
      "3\n",
      "6\n",
      "10\n",
      "15\n",
      "21\n",
      "28\n",
      "36\n",
      "45\n",
      "55\n"
     ]
    },
    {
     "data": {
      "text/plain": [
       "55"
      ]
     },
     "execution_count": 54,
     "metadata": {},
     "output_type": "execute_result"
    }
   ],
   "source": [
    "# Recursion : the function calls itself\n",
    "\n",
    "def recursionFunc(num):\n",
    "    if num > 0:\n",
    "        result = num + recursionFunc(num - 1)\n",
    "        print(result)\n",
    "    else:\n",
    "        result = 0\n",
    "    return result\n",
    "\n",
    "print(\"Recursion result is : \")\n",
    "recursionFunc(10)"
   ]
  },
  {
   "cell_type": "code",
   "execution_count": 55,
   "metadata": {},
   "outputs": [
    {
     "name": "stdout",
     "output_type": "stream",
     "text": [
      "Recursion result is : \n",
      "1\n",
      "3\n"
     ]
    },
    {
     "data": {
      "text/plain": [
       "3"
      ]
     },
     "execution_count": 55,
     "metadata": {},
     "output_type": "execute_result"
    }
   ],
   "source": [
    "def recursionFunc(num):\n",
    "    if num > 0:\n",
    "        result = num + recursionFunc(num - 1)\n",
    "        print(result)\n",
    "    else:\n",
    "        result = 0\n",
    "    return result\n",
    "\n",
    "print(\"Recursion result is : \")\n",
    "recursionFunc(2)"
   ]
  },
  {
   "cell_type": "code",
   "execution_count": null,
   "metadata": {},
   "outputs": [],
   "source": []
  }
 ],
 "metadata": {
  "kernelspec": {
   "display_name": "Python 3",
   "language": "python",
   "name": "python3"
  },
  "language_info": {
   "codemirror_mode": {
    "name": "ipython",
    "version": 3
   },
   "file_extension": ".py",
   "mimetype": "text/x-python",
   "name": "python",
   "nbconvert_exporter": "python",
   "pygments_lexer": "ipython3",
   "version": "3.7.6"
  }
 },
 "nbformat": 4,
 "nbformat_minor": 4
}
